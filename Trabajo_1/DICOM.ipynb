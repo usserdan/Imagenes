{
 "cells": [
  {
   "cell_type": "markdown",
   "id": "4fb5445d",
   "metadata": {},
   "source": [
    "## Patient Name\n",
    "\n",
    "| **Elemento**             | **Descripción**                                                                                                         |\n",
    "|---------------------------|-------------------------------------------------------------------------------------------------------------------------|\n",
    "| **Descripción del Atributo** | Este atributo almacena el nombre del paciente al que corresponde la imagen médica. Se utiliza para identificar al individuo durante el análisis, procesamiento, o recuperación de imágenes médicas. |\n",
    "| **Grupo**                | El grupo `(0010,xxxx)` corresponde al grupo de información del paciente en el estándar DICOM. Todos los atributos con este prefijo están relacionados con los datos personales del paciente. |\n",
    "| **Relevancia**           | Es un atributo muy importante para la identificación del paciente y la trazabilidad de los estudios clínicos. Aunque el estándar lo define como obligatorio (Tipo 2), puede estar vacío si el nombre del paciente es desconocido o ha sido anonimizado, como en estudios de investigación. |\n",
    "| **Valores Válidos**      | El formato aceptado es **PN (Person Name)**, que puede incluir hasta cinco componentes separados por el carácter `^`:`García^Luis^^Dr^MD`. En imágenes anonimizadas, puede usarse un identificador pseudónimo como: `275930` o `PD-1-MELANOMA-00016`. |"
   ]
  },
  {
   "cell_type": "markdown",
   "id": "20784696",
   "metadata": {},
   "source": [
    "## Modality\n",
    "| **Elemento**             | **Descripción**                                                                                                         |\n",
    "|---------------------------|-------------------------------------------------------------------------------------------------------------------------|\n",
    "| **Descripción del Atributo** | Indica el tipo de dispositivo, proceso o método que adquirió o generó los datos para crear las imágenes médicas. Identifica la tecnología de adquisición. |\n",
    "| **Grupo**                | `(0008,xxxx)` agrupa información general del estándar DICOM, como fecha, hora, modalidad y descripción textual.          |\n",
    "| **Relevancia**           | Obligatorio (Tipo 1). Define el origen de la imagen (por ejemplo, RM, TC) y es clave para interpretar y procesar las imágenes. |\n",
    "| **Valores Válidos**      | Debe ser una Code String (CS). Ejemplos:                                                                                |\n",
    "|                           | - `MR` (Resonancia Magnética)                                                                                          |\n",
    "|                           | - `CT` (Tomografía Computarizada)                                                                                      |\n",
    "|                           | - `PT` (Tomografía por Emisión de Positrones)                                                                          |\n",
    "|                           | - `CR` (Radiografía Computarizada)                                                                                     |\n",
    "|                           | - `US` (Ultrasonido)                                                                                                   |"
   ]
  },
  {
   "cell_type": "markdown",
   "id": "f055243d",
   "metadata": {},
   "source": [
    "## ViewPosition\n",
    "| **Elemento**             | **Descripción**                                                                                                         |\n",
    "|---------------------------|-------------------------------------------------------------------------------------------------------------------------|\n",
    "| **Descripción del Atributo** | Indica la proyección radiográfica o vista desde la cual se capturó la imagen, asociada con la posición del paciente. Ayuda a interpretar la orientación anatómica (por ejemplo, de frente, de lado). |\n",
    "| **Grupo**                | `(0018,xxxx)` pertenece al grupo de adquisición de imagen, que contiene atributos técnicos y físicos del procedimiento. |\n",
    "| **Relevancia**           | Obligatorio (Tipo 2). Es esencial para interpretar la imagen, ya que la posición afecta la visualización de estructuras anatómicas. |\n",
    "| **Valores Válidos**      | Debe ser una Code String (CS). Ejemplos:                                                                                |\n",
    "|                           | - `PA` (Posteroanterior)                                                                                               |\n",
    "|                           | - `XCCL` (Exaggerated Craniocaudal - Lateral)                                                                          |\n",
    "|                           | - `LATERAL` (Vista lateral)                                                                                            |"
   ]
  },
  {
   "cell_type": "markdown",
   "id": "18f6da70",
   "metadata": {},
   "source": [
    "## Body Part Examined\n",
    "\n",
    "| **Elemento**             | **Descripción**                                                                                                         |\n",
    "|---------------------------|-------------------------------------------------------------------------------------------------------------------------|\n",
    "| **Descripción del Atributo** | Proporciona una descripción textual de la parte del cuerpo examinada durante la adquisición de la imagen. Es útil para identificar anatómicamente el área de estudio. |\n",
    "| **Grupo**                | `(0018,xxxx)` agrupa parámetros técnicos y clínicos usados durante la toma de la imagen, como posición del paciente y parte del cuerpo examinada. |\n",
    "| **Relevancia**           | Opcional (Tipo 3). Si está presente, mejora la interpretación y organización de estudios médicos basados en la región anatómica observada. |\n",
    "| **Valores Válidos**      | Debe ser una Code String (CS). Ejemplos:                                                                                |\n",
    "|                           | - `BREAST` (Seno)                                                                                                     |\n",
    "|                           | - `ABDOMEN` (Abdomen)                                                                                                 |\n",
    "|                           | - `CHEST` (Tórax)                                                                                                     |"
   ]
  },
  {
   "cell_type": "markdown",
   "id": "0e6eeb8e",
   "metadata": {},
   "source": [
    "## Relative X-Ray Exposure\n",
    "\n",
    "| **Elemento**             | **Descripción**                                                                                                         |\n",
    "|---------------------------|-------------------------------------------------------------------------------------------------------------------------|\n",
    "| **Descripción del Atributo** | Indica la exposición relativa a rayos X registrada en la placa de imagen. Es útil para ajustar parámetros técnicos como el rango dinámico del digitalizador. |\n",
    "| **Grupo**                | `(0018,xxxx)` contiene información técnica sobre cómo se obtuvo la imagen, incluyendo dosis, exposición y posición.      |\n",
    "| **Relevancia**           | Opcional (Tipo 3). Puede omitirse, pero si está presente, es útil para análisis técnicos y control de calidad.           |\n",
    "| **Valores Válidos**      | Debe ser un Integer String (IS). Ejemplos:                                                                              |\n",
    "|                           | - `126`                                                                                                               |\n",
    "|                           | - `446`                                                                                                               |\n",
    "|                           | - `1390`                                                                                                              |"
   ]
  },
  {
   "cell_type": "markdown",
   "id": "d1696581",
   "metadata": {},
   "source": [
    "## Photometric Interpretation\n",
    "\n",
    "| **Elemento**             | **Descripción**                                                                                                         |\n",
    "|---------------------------|-------------------------------------------------------------------------------------------------------------------------|\n",
    "| **Descripción del Atributo** | Especifica la interpretación fotométrica de los datos de píxeles, indicando cómo se asignan colores o niveles de gris a los valores de intensidad del píxel. |\n",
    "| **Grupo**                | `(0028,xxxx)` pertenece al grupo de información de imagen, que describe cómo se debe presentar y procesar la imagen.    |\n",
    "| **Relevancia**           | Obligatorio (Tipo 1). Es esencial para garantizar la visualización correcta de la imagen, ya sea en escala de grises, color, o codificación especial. |\n",
    "| **Valores Válidos**      | Debe ser una Code String (CS). Ejemplos:                                                                                |\n",
    "|                           | - `MONOCHROME2`: Escala de grises (negro a blanco).                                                                    |\n",
    "|                           | - `RGB`: Imagen en color (Rojo, Verde, Azul).                                                                          |\n",
    "|                           | - Otros: `MONOCHROME1`, `YBR_FULL`, `PALETTE COLOR`, etc.                                                              |"
   ]
  },
  {
   "cell_type": "markdown",
   "id": "29f8855b",
   "metadata": {},
   "source": [
    "## Manufacturer\n",
    "\n",
    "| **Elemento**             | **Descripción**                                                                                                         |\n",
    "|---------------------------|-------------------------------------------------------------------------------------------------------------------------|\n",
    "| **Descripción del Atributo** | Especifica el nombre del fabricante del equipo que generó los datos de la imagen médica. Ayuda a garantizar compatibilidad y trazabilidad. |\n",
    "| **Grupo**                | `(0008,xxxx)` agrupa metadatos sobre el estudio, serie y equipamiento involucrado en la adquisición de imágenes.         |\n",
    "| **Relevancia**           | Obligatorio (Tipo 2). Debe estar presente, aunque puede estar vacío si la información es desconocida. Es útil para análisis técnicos y validación de protocolos. |\n",
    "| **Valores Válidos**      | Debe ser una Long String (LO). Ejemplos:                                                                                |\n",
    "|                           | - `GE MEDICAL SYSTEMS`                                                                                               |\n",
    "|                           | - `SIEMENS`                                                                                                          |\n",
    "|                           | - `Philips Medical Systems`                                                                                          |"
   ]
  },
  {
   "cell_type": "markdown",
   "id": "d2d8b544",
   "metadata": {},
   "source": [
    "## Manufacturer's Model Name\n",
    "\n",
    "| **Elemento**             | **Descripción**                                                                                                         |\n",
    "|---------------------------|-------------------------------------------------------------------------------------------------------------------------|\n",
    "| **Descripción del Atributo** | Indica el nombre del modelo específico del equipo utilizado para adquirir o generar la imagen médica. Proporciona detalles técnicos adicionales al atributo Manufacturer. |\n",
    "| **Grupo**                | `(0008,xxxx)` agrupa metadatos sobre el estudio, serie y equipamiento usado en la adquisición, como fabricante y modelo. |\n",
    "| **Relevancia**           | Opcional (Tipo 3). Si está presente, permite identificar con mayor precisión el hardware utilizado.                     |\n",
    "| **Valores Válidos**      | Debe ser una Long String (LO). Ejemplos:                                                                                |\n",
    "|                           | - `GENESIS_SIGNA`                                                                                                     |\n",
    "|                           | - `Aera`                                                                                                              |\n",
    "|                           | - `Discovery CT750 HD`                                                                                                |"
   ]
  }
 ],
 "metadata": {
  "language_info": {
   "name": "python"
  }
 },
 "nbformat": 4,
 "nbformat_minor": 5
}
