{
 "cells": [
  {
   "cell_type": "markdown",
   "id": "73d8baa1",
   "metadata": {
    "id": "73d8baa1"
   },
   "source": [
    "## Escalado"
   ]
  },
  {
   "cell_type": "code",
   "execution_count": null,
   "id": "f5eff1f0",
   "metadata": {
    "id": "f5eff1f0"
   },
   "outputs": [],
   "source": [
    "import nibabel as nib\n",
    "import numpy as np\n",
    "from monai.transforms import ScaleIntensity\n",
    "import matplotlib.pyplot as plt\n",
    "\n",
    "# Ruta de la imagen\n",
    "ruta_entrada = r\"/content/brainTumor_0001_FLAIR.nii.gz\"\n",
    "\n",
    "# Cargar la imagen\n",
    "nifti_img = nib.load(ruta_entrada)\n",
    "img_data = nifti_img.get_fdata()\n",
    "\n",
    "# Normalizar la imagen con MONAI\n",
    "scaler = ScaleIntensity(minv=0, maxv=1)\n",
    "img_scaled = scaler(img_data)\n",
    "\n",
    "img_scaled_np = img_scaled.numpy() # Convertir a array de NumPy\n",
    "\n",
    "img_scaled_nifti = nib.Nifti1Image(img_scaled_np, nifti_img.affine) # Crear imagen NIfTI normalizada\n",
    "\n",
    "ruta_salida = ruta_entrada.replace(\".nii.gz\", \"_scaled.nii.gz\")\n",
    "nib.save(img_scaled_nifti, ruta_salida)\n",
    "\n",
    "print(f\"Imagen normalizada guardada en: {ruta_salida}\")\n",
    "\n",
    "# ----------- Visualización de cortes -----------\n",
    "# Obtener un corte axial central\n",
    "slice_idx = img_data.shape[2] // 2\n",
    "\n",
    "plt.figure(figsize=(12, 5))\n",
    "\n",
    "# Imagen original\n",
    "plt.subplot(1, 2, 1)\n",
    "plt.imshow(img_data[:, :, slice_idx], cmap='gray')\n",
    "plt.title('Original')\n",
    "plt.axis('off')\n",
    "\n",
    "# Imagen normalizada\n",
    "plt.subplot(1, 2, 2)\n",
    "plt.imshow(img_scaled_np[:, :, slice_idx], cmap='gray')\n",
    "plt.title('Normalizada')\n",
    "plt.axis('off')\n",
    "\n",
    "plt.tight_layout()\n",
    "plt.show()"
   ]
  },
  {
   "cell_type": "markdown",
   "id": "4a4e6207",
   "metadata": {
    "id": "4a4e6207"
   },
   "source": [
    "## Z-score"
   ]
  },
  {
   "cell_type": "code",
   "execution_count": null,
   "id": "7126b97b",
   "metadata": {
    "id": "7126b97b"
   },
   "outputs": [],
   "source": [
    "import nibabel as nib\n",
    "import numpy as np\n",
    "import matplotlib.pyplot as plt\n",
    "from monai.transforms import NormalizeIntensity\n",
    "\n",
    "# Ruta de la imagen a normalizar\n",
    "ruta_entrada = r\"/content/brainTumor_0001_FLAIR.nii.gz\"\n",
    "\n",
    "# Cargar la imagen\n",
    "nifti_img = nib.load(ruta_entrada)\n",
    "img_data = nifti_img.get_fdata()\n",
    "\n",
    "# Normalizar intensidad con MONAI (media 0, varianza 1)\n",
    "normalizer = NormalizeIntensity()\n",
    "img_normalized = normalizer(img_data)\n",
    "\n",
    "# Convertir a array de NumPy\n",
    "img_normalized_np = img_normalized.numpy()\n",
    "\n",
    "# Crear la imagen NIfTI normalizada\n",
    "img_normalized_nifti = nib.Nifti1Image(img_normalized_np, nifti_img.affine)\n",
    "\n",
    "# Guardar con nuevo nombre\n",
    "ruta_salida = ruta_entrada.replace(\".nii.gz\", \"_norm1.nii.gz\")\n",
    "nib.save(img_normalized_nifti, ruta_salida)\n",
    "\n",
    "print(f\"Imagen normalizada guardada en: {ruta_salida}\")\n",
    "\n",
    "# ----------- Visualización de cortes -----------\n",
    "# Obtener un corte axial central\n",
    "slice_idx = img_data.shape[2] // 2\n",
    "\n",
    "plt.figure(figsize=(12, 5))\n",
    "\n",
    "# Imagen original\n",
    "plt.subplot(1, 2, 1)\n",
    "plt.imshow(img_data[:, :, slice_idx], cmap='gray')\n",
    "plt.title('Original')\n",
    "plt.axis('off')\n",
    "\n",
    "# Imagen normalizada\n",
    "plt.subplot(1, 2, 2)\n",
    "plt.imshow(img_normalized_np[:, :, slice_idx], cmap='gray')\n",
    "plt.title('Normalizada')\n",
    "plt.axis('off')\n",
    "\n",
    "plt.tight_layout()\n",
    "plt.show()\n",
    "\n",
    "ruta_salida = ruta_entrada.replace(\".nii.gz\", \"_norm1.nii.gz\")\n",
    "nib.save(img_normalized_nifti, ruta_salida)\n"
   ]
  }
 ],
 "metadata": {
  "colab": {
   "provenance": []
  },
  "kernelspec": {
   "display_name": "ML",
   "language": "python",
   "name": "python3"
  },
  "language_info": {
   "name": "python",
   "version": "3.9.18"
  }
 },
 "nbformat": 4,
 "nbformat_minor": 5
}
